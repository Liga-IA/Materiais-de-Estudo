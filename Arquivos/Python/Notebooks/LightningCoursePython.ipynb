{
 "cells": [
  {
   "cell_type": "markdown",
   "id": "renewable-albania",
   "metadata": {},
   "source": [
    "# Curso Relampâgo de Python\n",
    "\n",
    "## Índices:\n",
    "\n",
    "<a href=\"#1.-Formatação-de-Espaço-em-Branco\">1. Formatação de Espaço em Branco</a><br>\n",
    "<a href=\"#2.-Funções\">2. Funções</a><br>\n",
    "<a href=\"#3.-Strings\">3. Strings</a><br>\n",
    "<a href=\"#4.-Exceções\">4. Exceções</a><br>\n",
    "<a href=\"#5.-Listas\">5. Listas</a><br>\n",
    "<a href=\"#6.-Tuplas\">6. Tuplas</a><br>\n",
    "<a href=\"#7.-Dicionários\">7. Dicionários</a><br>\n",
    "<a href=\"#8.-defaultdict\">8. defaultdict</a><br>\n",
    "<a href=\"#9.-Contador\">9. Contador</a><br>\n",
    "<a href=\"#10.-Conjuntos\">10. Conjuntos</a><br>\n",
    "<a href=\"#11.-Controle-de-Fluxo\">11. Controle de Fluxo</a><br>\n",
    "<a href=\"#12.-Veracidade\">12. Veracidade</a><br>\n",
    "<a href=\"#13.-Ordenação\">13. Ordenação</a><br>\n",
    "<a href=\"#14.-Compreensões-de-Lista\">14. Compreensões de Lista</a><br>\n",
    "<a href=\"#15.-Geradores-e-Iteradores\">15. Geradores e Iteradores</a><br>\n",
    "<a href=\"#16.-Aleatoriedade\">16. Aleatoriedade</a><br>\n",
    "<a href=\"#17.-Expressões-Regulares-(Regex)\">17. Expressões Regulares (Regex)</a><br>\n",
    "<a href=\"#18.-Programação-Orientada-a-Objeto\">18.Programação Orientada a Objeto</a><br>\n",
    "<a href=\"#19.-Ferramentas-Funcionais\">19. Ferramentas Funcionais</a><br>\n",
    "<a href=\"#20.-Enumeração-(enumerate)\">20. Enumeração (enumerate)</a><br>\n",
    "<a href=\"#21.-Descompactação-de-Zip-e-Argumentos\">21. Descompactação de Zip e Argumentos</a><br>\n",
    "<a href=\"#22.-args-e-kwargs\">22. args e kwargs</a><br>"
   ]
  },
  {
   "cell_type": "markdown",
   "id": "boolean-insight",
   "metadata": {},
   "source": [
    "## 1. Formatação de Espaço em Branco\n",
    "Python usa <b>IDENTAÇÃO</b> para para delimitar blocos de código, enquanto algumas outras linguagens usam <b>CHAVES</b>."
   ]
  },
  {
   "cell_type": "code",
   "execution_count": null,
   "id": "outstanding-designation",
   "metadata": {},
   "outputs": [],
   "source": [
    "for i in [1, 2, 3, 4, 5]:\n",
    "    print(f'Inicio de i = {i}')\n",
    "    for j in [1, 2, 3, 4, 5]:\n",
    "        print(f'j = {j}')\n",
    "        print(f'i + j = {i + j}')\n",
    "    print(f'Fim de i = {i}\\n')\n",
    "print(\"Done looping!\\n\")"
   ]
  },
  {
   "cell_type": "markdown",
   "id": "sapphire-reader",
   "metadata": {},
   "source": [
    "Os espaços em branco <b>são ignorados</b> dentro de parenteses."
   ]
  },
  {
   "cell_type": "code",
   "execution_count": null,
   "id": "entire-welsh",
   "metadata": {},
   "outputs": [],
   "source": [
    "long_winded_computation = (1 + 2 + 3 + 4 + 5 + 6 + 7 + 8 + 9 + 10 +\n",
    "                    11 + 12 + 13 + 14 + 15 + 16 + 17 + 18 + 19 + 20)\n",
    "long_winded_computation"
   ]
  },
  {
   "cell_type": "markdown",
   "id": "spiritual-residence",
   "metadata": {},
   "source": [
    "Com isso podemos <b>facilitar</b> a leitura."
   ]
  },
  {
   "cell_type": "code",
   "execution_count": null,
   "id": "conceptual-cookie",
   "metadata": {},
   "outputs": [],
   "source": [
    "list_of_lists = [[1, 2, 3], [4, 5, 6], [7, 8, 9]]\n",
    "\n",
    "easier_to_read_list_of_lists = [[1, 2, 3], \n",
    "                                [4, 5, 6], \n",
    "                                [7, 8, 9]]\n",
    "for listX in list_of_lists:\n",
    "    print(f'list_of_lists -> list: {listX} -> sum = {sum(listX)}')\n",
    "for listX in easier_to_read_list_of_lists:\n",
    "    print(f'easier_to_read_list_of_lists -> list: {listX} -> sum = {sum(listX)}')"
   ]
  },
  {
   "cell_type": "markdown",
   "id": "acting-pocket",
   "metadata": {},
   "source": [
    "Pode-se usar uma barra invertida (\\\\\\) para indicar que uma declaração continua na próxima linha."
   ]
  },
  {
   "cell_type": "code",
   "execution_count": null,
   "id": "casual-dispatch",
   "metadata": {},
   "outputs": [],
   "source": [
    "two_plus_three = 2 + \\\n",
    "    3\n",
    "two_plus_three"
   ]
  },
  {
   "cell_type": "markdown",
   "id": "accurate-nicholas",
   "metadata": {},
   "source": [
    "## 2. Funções"
   ]
  },
  {
   "cell_type": "code",
   "execution_count": null,
   "id": "noble-victim",
   "metadata": {},
   "outputs": [],
   "source": [
    "def double(x):\n",
    "    \"\"\" pode-se explicar o que a funcao faz usando uma docstring.\n",
    "    por exemplo esta funcao multiplica sua entrada por 2 \"\"\"\n",
    "    return x * 2"
   ]
  },
  {
   "cell_type": "markdown",
   "id": "integral-skirt",
   "metadata": {},
   "source": [
    "Em Python as funções são de <b>primeira classe</b>, ou seja, podemos atribui-las a variaveis e passa-las para as funções como <b>argumentos</b>."
   ]
  },
  {
   "cell_type": "code",
   "execution_count": null,
   "id": "quiet-intervention",
   "metadata": {},
   "outputs": [],
   "source": [
    "def apply_to_three(f):\n",
    "    \"\"\"chama a funcao f com 3 como seu argumento\"\"\"\n",
    "    return f(3)\n",
    "my_double = double\n",
    "x = apply_to_three(my_double)\n",
    "x"
   ]
  },
  {
   "cell_type": "markdown",
   "id": "indie-honolulu",
   "metadata": {},
   "source": [
    "Também podemos criar pequenas <b>funções anônimas</b>, ou <b>lambdas</b>:"
   ]
  },
  {
   "cell_type": "code",
   "execution_count": null,
   "id": "fossil-content",
   "metadata": {},
   "outputs": [],
   "source": [
    "y = apply_to_three(lambda x: x + 1)\n",
    "y"
   ]
  },
  {
   "cell_type": "markdown",
   "id": "brief-implementation",
   "metadata": {},
   "source": [
    "Pode-se atribuir lambdas a variáveis, mas <b>não</b> é elegante."
   ]
  },
  {
   "cell_type": "code",
   "execution_count": null,
   "id": "least-identifier",
   "metadata": {},
   "outputs": [],
   "source": [
    "another_double = lambda x: 2 * x      # Feio\n",
    "def another_double(x): return 2 * x   # Bonito"
   ]
  },
  {
   "cell_type": "markdown",
   "id": "periodic-hampton",
   "metadata": {},
   "source": [
    "\n",
    "Os paramêtros de funções podem receber argumentos padrões estes valores só <b>precisam ser especificados</b> quando você quiser algum valor <b>fora do padrão</b>."
   ]
  },
  {
   "cell_type": "code",
   "execution_count": null,
   "id": "dense-massage",
   "metadata": {},
   "outputs": [],
   "source": [
    "def my_print(message=\"my default message\"):\n",
    "    print(message)\n",
    "\n",
    "my_print(\"hello\") # Exibe 'hello' em tela\n",
    "my_print()        # Exibe o valor padrao, logo, 'my default message'"
   ]
  },
  {
   "cell_type": "markdown",
   "id": "cross-header",
   "metadata": {},
   "source": [
    "As vezes é útil especificar <b>argumentos</b> pelo nome."
   ]
  },
  {
   "cell_type": "code",
   "execution_count": null,
   "id": "confused-sunrise",
   "metadata": {},
   "outputs": [],
   "source": [
    "def subtract(a=0, b=0):\n",
    "    return a - b\n",
    "\n",
    "print(f'a: 10; b: 5 -> a - b = {subtract(10, 5)}')\n",
    "print(f'a: 0;  b: 5 -> a - b = {subtract(0, 5)}')\n",
    "print(f'a: 0;  b: 5 -> a - b = {subtract(b=5)}')"
   ]
  },
  {
   "cell_type": "markdown",
   "id": "settled-mailing",
   "metadata": {},
   "source": [
    "## 3. Strings\n",
    "Elas devem ser delimitadas por <b>aspas simples</b> ou por <b>aspas duplas</b>, desde que <b>COMBINEM</b>."
   ]
  },
  {
   "cell_type": "code",
   "execution_count": null,
   "id": "curious-massage",
   "metadata": {},
   "outputs": [],
   "source": [
    "single_quoted_string = 'data science'\n",
    "double_quoted_string = \"data science\"\n",
    "single_quoted_string == double_quoted_string"
   ]
  },
  {
   "cell_type": "markdown",
   "id": "single-bradley",
   "metadata": {},
   "source": [
    "Python usa a barra invertida para codificar <b>caracteres especiais</b>."
   ]
  },
  {
   "cell_type": "code",
   "execution_count": null,
   "id": "complex-capacity",
   "metadata": {},
   "outputs": [],
   "source": [
    "tab_string = \"\\t\"\n",
    "print(f'Tamanho de tab_string = {len(tab_string)}')"
   ]
  },
  {
   "cell_type": "markdown",
   "id": "wicked-premiere",
   "metadata": {},
   "source": [
    "Pode-se criar <b>strings múltiplas</b> usando aspas triplas."
   ]
  },
  {
   "cell_type": "code",
   "execution_count": null,
   "id": "understanding-trade",
   "metadata": {},
   "outputs": [],
   "source": [
    "multi_line_string = \"\"\"esta eh a primeira linha\n",
    "esta eh a segunda linha\n",
    "esta eh a terceira linha\"\"\"\n",
    "print(multi_line_string)"
   ]
  },
  {
   "cell_type": "markdown",
   "id": "exterior-intelligence",
   "metadata": {},
   "source": [
    "## 4. Exceções\n",
    "Quando algo ocorre <b>errado</b>, Python exibe uma <b>exceção</b> caso não manipule esta, o programa <b>trava</b>. \n",
    "<br>Entretanto pode-se manipular ela usando <b>try</b> e <b>except</b>:"
   ]
  },
  {
   "cell_type": "code",
   "execution_count": null,
   "id": "disciplinary-beach",
   "metadata": {},
   "outputs": [],
   "source": [
    "try:\n",
    "    print(0/0)\n",
    "except ZeroDivisionError:\n",
    "    print(\"\\ncannot divide by zero\")"
   ]
  },
  {
   "cell_type": "markdown",
   "id": "administrative-duncan",
   "metadata": {},
   "source": [
    "## 5. Listas\n",
    "Muito parecida com o <b>array</b> das outras linguagens, mas com <b>funcionalidades a mais</b>."
   ]
  },
  {
   "cell_type": "code",
   "execution_count": null,
   "id": "opposite-panic",
   "metadata": {},
   "outputs": [],
   "source": [
    "integer_list = [1, 2, 3]\n",
    "heterogenous_list = [\"string\", 0.1, True]\n",
    "list_of_lists = [integer_list, heterogenous_list, []]\n",
    "\n",
    "list_length = len(integer_list) # quantidade de itens = 3\n",
    "list_sum    = sum(integer_list) #           1 + 2 + 3 = 6"
   ]
  },
  {
   "cell_type": "markdown",
   "id": "hindu-flush",
   "metadata": {},
   "source": [
    "Pode-se criar listas baseado em um <b>range</b>."
   ]
  },
  {
   "cell_type": "code",
   "execution_count": null,
   "id": "comparative-occupation",
   "metadata": {},
   "outputs": [],
   "source": [
    "x = [x for x in range(10)]    # eh a lista [0, 1, ..., 9]\n",
    "zero = x[0]      # eh igual a 0, listas sao indexadas a partir de 0\n",
    "one = x[1]       # eh igual a 1\n",
    "nine = x[-1]     # eh igual a 9, Pythonic para o ultimo elemento\n",
    "nine = x[-2]     # eh igual a 8, Pythonic para o penultimo elemento\n",
    "x[0] = -1        # agora a lista eh [-1, 1, 2, 3, ..., 9]"
   ]
  },
  {
   "cell_type": "markdown",
   "id": "exceptional-coverage",
   "metadata": {},
   "source": [
    "Python possui o operador <b>in</b> para verificar a associação a lista. Esta verificação analisa <b>elemento a elemento</b>, logo deve-se ter <b>cuidado ao utiliza-la com listas muito grandes</b>."
   ]
  },
  {
   "cell_type": "code",
   "execution_count": null,
   "id": "pleased-antenna",
   "metadata": {
    "scrolled": true
   },
   "outputs": [],
   "source": [
    "1 in [1, 2, 3]"
   ]
  },
  {
   "cell_type": "code",
   "execution_count": null,
   "id": "strategic-quick",
   "metadata": {},
   "outputs": [],
   "source": [
    "0 in [1, 2, 3]"
   ]
  },
  {
   "cell_type": "markdown",
   "id": "piano-paraguay",
   "metadata": {},
   "source": [
    "Pode-se <b>concatenar</b> listas juntas"
   ]
  },
  {
   "cell_type": "code",
   "execution_count": null,
   "id": "lasting-active",
   "metadata": {},
   "outputs": [],
   "source": [
    "x = [1, 2, 3]\n",
    "x.extend([4, 5, 6])\n",
    "x"
   ]
  },
  {
   "cell_type": "markdown",
   "id": "simple-ministry",
   "metadata": {},
   "source": [
    "Pode-se <b>adicionar</b> um único item de cada vez"
   ]
  },
  {
   "cell_type": "code",
   "execution_count": null,
   "id": "alleged-poster",
   "metadata": {},
   "outputs": [],
   "source": [
    "x.append(0) # x agora eh [1, 2, 3, 0]\n",
    "y = x[-1]   # eh igual a 0\n",
    "z = len(x)  # eh igual a 4\n",
    "x, y, z"
   ]
  },
  {
   "cell_type": "markdown",
   "id": "funny-point",
   "metadata": {},
   "source": [
    "Pode-se <b>desfazer</b> as listas caso saiba a quantidade de elementos."
   ]
  },
  {
   "cell_type": "code",
   "execution_count": null,
   "id": "growing-scott",
   "metadata": {},
   "outputs": [],
   "source": [
    "x, y = [1, 2] # x eh 1, y eh 2\n",
    "try:\n",
    "    x, y = [1, 2, 3]\n",
    "except ValueError:\n",
    "    print(\"\\nvalue error\")"
   ]
  },
  {
   "cell_type": "markdown",
   "id": "certified-conviction",
   "metadata": {},
   "source": [
    "Pode-se <b>descartar</b> elementos utilizando sublinhado."
   ]
  },
  {
   "cell_type": "code",
   "execution_count": null,
   "id": "desperate-valve",
   "metadata": {},
   "outputs": [],
   "source": [
    "_, y = [1, 2] # y eh 2, 1 eh descartado\n",
    "y"
   ]
  },
  {
   "cell_type": "markdown",
   "id": "mediterranean-gentleman",
   "metadata": {},
   "source": [
    "## 6. Tuplas\n",
    "Basicamente são listas <b>imutáveis</b>."
   ]
  },
  {
   "cell_type": "code",
   "execution_count": null,
   "id": "choice-boring",
   "metadata": {},
   "outputs": [],
   "source": [
    "my_list = [1, 2]\n",
    "my_tuple = (1, 2)\n",
    "other_tuple = 3, 4"
   ]
  },
  {
   "cell_type": "markdown",
   "id": "coral-credits",
   "metadata": {},
   "source": [
    "<b>Não podemos</b> modificar elementos destas.<br>São uma maneira eficaz de <b>retornar múltiplos valores</b> a partir de algumas funções."
   ]
  },
  {
   "cell_type": "code",
   "execution_count": null,
   "id": "immune-secretariat",
   "metadata": {},
   "outputs": [],
   "source": [
    "def sum_and_product(x, y):\n",
    "    return x + y, x * y\n",
    "\n",
    "sp = sum_and_product(2, 3)    # eh igual a tupla (5, 6)\n",
    "s, p = sum_and_product(5, 10) # s eh 15, p eh 50\n",
    "s, p, sp"
   ]
  },
  {
   "cell_type": "markdown",
   "id": "skilled-uncle",
   "metadata": {},
   "source": [
    "As tuplas (e listas) também podem ser usadas para <b>atribuições múltiplas</b>."
   ]
  },
  {
   "cell_type": "code",
   "execution_count": null,
   "id": "historical-preference",
   "metadata": {},
   "outputs": [],
   "source": [
    "x, y = 1, 2 # x eh 1, y eh 2\n",
    "x, y = y, x # modo Pythonic de trocar as variaveis, x eh 2, y eh 1\n",
    "x, y"
   ]
  },
  {
   "cell_type": "markdown",
   "id": "continued-fancy",
   "metadata": {},
   "source": [
    "## 7. Dicionários\n",
    "Associa <b>valores</b> com <b>chaves</b>, e permite que recupere o <b>valor</b> de uma chave."
   ]
  },
  {
   "cell_type": "code",
   "execution_count": null,
   "id": "exact-matthew",
   "metadata": {},
   "outputs": [],
   "source": [
    "empty_dict = {}                  # Pythonic\n",
    "empty_dict = dict()              # Menos Pythonic\n",
    "grades = {\"Joel\": 80, \"Tim\": 75} # Dicionario literal"
   ]
  },
  {
   "cell_type": "markdown",
   "id": "remarkable-practice",
   "metadata": {},
   "source": [
    "Pode-se <b>procurar</b> valores por uma chave:"
   ]
  },
  {
   "cell_type": "code",
   "execution_count": null,
   "id": "consecutive-moderator",
   "metadata": {},
   "outputs": [],
   "source": [
    "joels_grade = grades[\"Joel\"] # eh igual a 80\n",
    "joels_grade"
   ]
  },
  {
   "cell_type": "markdown",
   "id": "caring-courtesy",
   "metadata": {},
   "source": [
    " Mas você receberá um <b>KeyError</b>, caso a chave <b>não exista</b> no dicionário:"
   ]
  },
  {
   "cell_type": "code",
   "execution_count": null,
   "id": "processed-broadcast",
   "metadata": {},
   "outputs": [],
   "source": [
    "try:\n",
    "    kates_grade = grades[\"Kate\"]\n",
    "except KeyError:\n",
    "    print(\"\\nno grade for Kate!\")"
   ]
  },
  {
   "cell_type": "markdown",
   "id": "rough-product",
   "metadata": {},
   "source": [
    "Pode-se verificar a <b>existência</b> de uma chave usando <b>in</b>:"
   ]
  },
  {
   "cell_type": "code",
   "execution_count": null,
   "id": "destroyed-alpha",
   "metadata": {},
   "outputs": [],
   "source": [
    "joel_has_grade = \"Joel\" in grades # True\n",
    "kate_has_grade = \"Kate\" in grades # False\n",
    "joel_has_grade, kate_has_grade"
   ]
  },
  {
   "cell_type": "markdown",
   "id": "tracked-reward",
   "metadata": {},
   "source": [
    "Os dicionários possuem o metódo <b>get</b>,que retorna um valor padrão em vez de levantar uma <b>exceção</b> quando você procura por uma <b>chave que não</b> existe:"
   ]
  },
  {
   "cell_type": "code",
   "execution_count": null,
   "id": "instant-charles",
   "metadata": {},
   "outputs": [],
   "source": [
    "joels_grade = grades.get(\"Joel\", 0) # eh 80, pois joel eh uma chave de grades\n",
    "kates_grade = grades.get(\"Kate\", 0) # eh 0, pois kate nao eh uma chave de grades, logo retorna o valor definido(0)\n",
    "no_ones_grade = grades.get(0) # padrao para padrao eh None\n",
    "\n",
    "joels_grade, kates_grade, no_ones_grade"
   ]
  },
  {
   "cell_type": "markdown",
   "id": "awful-trauma",
   "metadata": {},
   "source": [
    "Pode <b>atribuir</b> pares de valores-chave usando os mesmos <b>colchetes</b>:"
   ]
  },
  {
   "cell_type": "code",
   "execution_count": null,
   "id": "rational-berkeley",
   "metadata": {},
   "outputs": [],
   "source": [
    "grades[\"Tim\"] = 99        # substitui o valor antigo\n",
    "grades[\"Kate\"] = 100      # adiciona uma terceira entrada\n",
    "num_students = len(grades) # eh igual a 3\n",
    "num_students"
   ]
  },
  {
   "cell_type": "markdown",
   "id": "frank-peace",
   "metadata": {},
   "source": [
    "Dicionários podem ser usados para representar <b>dados estruturados</b>:"
   ]
  },
  {
   "cell_type": "code",
   "execution_count": null,
   "id": "hundred-metallic",
   "metadata": {},
   "outputs": [],
   "source": [
    "tweet = {\n",
    "    \"user\": \"joelgrus\",\n",
    "    \"text\": \"Data Science is Awesome\",\n",
    "    \"retweet_count\": 100,\n",
    "    \"hashtags\": [\"#data\", \"#science\", \"#datascience\", \"#awesome\", \"#yolo\"]\n",
    "}"
   ]
  },
  {
   "cell_type": "markdown",
   "id": "stopped-closure",
   "metadata": {},
   "source": [
    "Podemos olhar para todas chaves"
   ]
  },
  {
   "cell_type": "code",
   "execution_count": null,
   "id": "graduate-moore",
   "metadata": {},
   "outputs": [],
   "source": [
    "tweet_keys    = tweet.keys()   # lista de chaves\n",
    "tweet_values = tweet.values() # lista de valores-chave\n",
    "tweet_items  = tweet.items()  # lista de (chave, valor) tuplas\n",
    "\n",
    "\"user\" in tweet_keys       # True, mas usa list in, mais lento\n",
    "\"user\" in tweet            # True, usando dict in, mais rapido e Pythonic\n",
    "\"joelgrus\" in tweet_values # True"
   ]
  },
  {
   "cell_type": "markdown",
   "id": "affiliated-guatemala",
   "metadata": {},
   "source": [
    "## 8. defaultdict"
   ]
  },
  {
   "cell_type": "markdown",
   "id": "frank-disclosure",
   "metadata": {},
   "source": [
    "Existem maneiras diferentes de contar palavras de um documento:\n",
    "\n",
    "I. Verificando cada palavra, incrementando sua contagem, ou adicionando se não existir a chave:"
   ]
  },
  {
   "cell_type": "code",
   "execution_count": null,
   "id": "amber-science",
   "metadata": {},
   "outputs": [],
   "source": [
    "document = [\"a\", \"b\", \"c\", \"c\", \"c\", \"c\", \"a\", \"a\", \"d\", \"a\", \"d\", \"e\"]\n",
    "word_counts = {}\n",
    "for word in document:\n",
    "    if word in word_counts:\n",
    "        word_counts[word] += 1\n",
    "    else:\n",
    "        word_counts[word] = 1\n",
    "word_counts"
   ]
  },
  {
   "cell_type": "markdown",
   "id": "front-foster",
   "metadata": {},
   "source": [
    "II. Poderia se manipular exceções de busca de chaves perdidas:"
   ]
  },
  {
   "cell_type": "code",
   "execution_count": null,
   "id": "intended-beast",
   "metadata": {},
   "outputs": [],
   "source": [
    "word_counts = {}\n",
    "for word in document:\n",
    "    try:\n",
    "        word_counts[word] += 1\n",
    "    except KeyError:\n",
    "        word_counts[word] = 1\n",
    "word_counts"
   ]
  },
  {
   "cell_type": "markdown",
   "id": "valuable-breast",
   "metadata": {},
   "source": [
    "III. Poderia usar get, que se comporta bem com chaves perdidas:"
   ]
  },
  {
   "cell_type": "code",
   "execution_count": null,
   "id": "collective-diamond",
   "metadata": {},
   "outputs": [],
   "source": [
    "word_counts = {}\n",
    "for word in document:\n",
    "    previous_count = word_counts.get(word, 0)\n",
    "    word_counts[word] = previous_count + 1\n",
    "word_counts"
   ]
  },
  {
   "cell_type": "markdown",
   "id": "international-dating",
   "metadata": {},
   "source": [
    "Entretanto isso é levemente complicado, por isso defaultdict é util, defaultdict é como um dicionário comum, mas quando procura-se por uma chave que ele não possui, <b>ele primeiro adiciona um valor para ela usando a função de argumento zero que você forneceu ao cria-lo</b>:"
   ]
  },
  {
   "cell_type": "code",
   "execution_count": null,
   "id": "anticipated-facing",
   "metadata": {},
   "outputs": [],
   "source": [
    "from collections import defaultdict\n",
    "\n",
    "word_counts = defaultdict(int) # int() produz 0\n",
    "for word in document:\n",
    "    word_counts[word] += 1\n",
    "word_counts"
   ]
  },
  {
   "cell_type": "markdown",
   "id": "incorporate-gauge",
   "metadata": {},
   "source": [
    "Pode ser útil com listas ou dicts, ou até mesmo proprias funções:"
   ]
  },
  {
   "cell_type": "code",
   "execution_count": null,
   "id": "fitted-hollywood",
   "metadata": {
    "scrolled": true
   },
   "outputs": [],
   "source": [
    "dd_list = defaultdict(list)            # list() produz uma lista vazia\n",
    "dd_list[2].append(1)                   # agora dd_list contem {2: [1]}\n",
    "\n",
    "dd_dict = defaultdict(dict)            # dict() produz um dict vazio\n",
    "dd_dict[\"Joel\"][\"City\"] = \"Seattle\"    # { \"Joel\": {\"City\": \"Seattle\"}}\n",
    "\n",
    "dd_pair = defaultdict(lambda: [0, 0])\n",
    "dd_pair[2][1] = 1                      # agora dd_pair contem {2: [0, 1]}\n",
    "dd_pair"
   ]
  },
  {
   "cell_type": "markdown",
   "id": "documentary-refrigerator",
   "metadata": {},
   "source": [
    "## 9. Contador\n",
    "Um counter transforma uma sequência de valores em algo parecido  com o objeto defaultdict(int), mapeando as chaves para contagens:"
   ]
  },
  {
   "cell_type": "code",
   "execution_count": null,
   "id": "bulgarian-marriage",
   "metadata": {},
   "outputs": [],
   "source": [
    "from collections import Counter\n",
    "\n",
    "c = Counter([0, 1, 2, 0]) # c eh basicamente {0: 2, 1: 1, 2: 1}\n",
    "c"
   ]
  },
  {
   "cell_type": "markdown",
   "id": "ethical-simpson",
   "metadata": {},
   "source": [
    "Podemos resolver o problema de contagem de palavras agora:"
   ]
  },
  {
   "cell_type": "code",
   "execution_count": null,
   "id": "environmental-arrangement",
   "metadata": {},
   "outputs": [],
   "source": [
    "word_counts = Counter(document)\n",
    "word_counts"
   ]
  },
  {
   "cell_type": "markdown",
   "id": "minor-aquatic",
   "metadata": {},
   "source": [
    "## 10. Conjuntos\n",
    "Representa uma coleção de elementos distintos:"
   ]
  },
  {
   "cell_type": "code",
   "execution_count": null,
   "id": "hungarian-waste",
   "metadata": {},
   "outputs": [],
   "source": [
    "s = set()\n",
    "s.add(1)      # s agora eh {1}\n",
    "s.add(2)      # s agora eh {1, 2}\n",
    "s.add(2)      # s ainda eh {1, 2}\n",
    "x = len(s)    # eh igual a 2\n",
    "y = 2 in s    # True\n",
    "z = 3 in s    # False\n",
    "s"
   ]
  },
  {
   "cell_type": "markdown",
   "id": "capable-principal",
   "metadata": {},
   "source": [
    "Os conjuntos serão usados por:\n",
    "\n",
    "I. Serem muitos rapidos usando 'in':"
   ]
  },
  {
   "cell_type": "code",
   "execution_count": null,
   "id": "banned-coffee",
   "metadata": {},
   "outputs": [],
   "source": [
    "hundreds_of_other_words = [str(x) for x in range(0, 999)]\n",
    "\n",
    "stopwords_list = [\"a\", \"an\", \"at\"] + hundreds_of_other_words + [\"yet\", \"you\"]\n",
    "stopwords_set = set(stopwords_list)\n",
    "\n",
    "\"zip\" in stopwords_list # Falso, mas lento\n",
    "\"zip\" in stopwords_set  # Falso, mas rapido"
   ]
  },
  {
   "cell_type": "markdown",
   "id": "different-locator",
   "metadata": {},
   "source": [
    "II. Encontrar itens distintos em uma coleção:"
   ]
  },
  {
   "cell_type": "code",
   "execution_count": null,
   "id": "contained-israel",
   "metadata": {},
   "outputs": [],
   "source": [
    "item_list = [1, 2, 3, 1, 2, 3]\n",
    "num_items = len(item_list)         # 6\n",
    "item_set = set(item_list)          # {1, 2, 3}\n",
    "num_distinct_items = len(item_set) # 3\n",
    "num_distinct_items"
   ]
  },
  {
   "cell_type": "markdown",
   "id": "pregnant-parameter",
   "metadata": {},
   "source": [
    "## 11. Controle de Fluxo\n",
    "Normal:"
   ]
  },
  {
   "cell_type": "code",
   "execution_count": null,
   "id": "brilliant-detail",
   "metadata": {},
   "outputs": [],
   "source": [
    "if 1 > 2:\n",
    "    message = \"if only 1 were greater than two...\"\n",
    "elif 1 > 3:\n",
    "    message = \"elif stands for 'else if'\"\n",
    "else:\n",
    "    message = \"when all else fails use else (if you want to)\"\n",
    "message"
   ]
  },
  {
   "cell_type": "markdown",
   "id": "solved-quest",
   "metadata": {},
   "source": [
    "Ternário:"
   ]
  },
  {
   "cell_type": "code",
   "execution_count": null,
   "id": "serious-blackberry",
   "metadata": {},
   "outputs": [],
   "source": [
    "parity = \"even\" if x % 2 == 0 else \"odd\"\n",
    "parity"
   ]
  },
  {
   "cell_type": "markdown",
   "id": "treated-platform",
   "metadata": {},
   "source": [
    "Loop while:"
   ]
  },
  {
   "cell_type": "code",
   "execution_count": null,
   "id": "conventional-cisco",
   "metadata": {},
   "outputs": [],
   "source": [
    "x = 0\n",
    "while x < 10:\n",
    "    print(x, \"is less than 10\")\n",
    "    x += 1"
   ]
  },
  {
   "cell_type": "markdown",
   "id": "second-boulder",
   "metadata": {},
   "source": [
    "Loop for e in:"
   ]
  },
  {
   "cell_type": "code",
   "execution_count": null,
   "id": "stunning-maine",
   "metadata": {},
   "outputs": [],
   "source": [
    "for x in range(10):\n",
    "    print(x, \"is less than 10\")"
   ]
  },
  {
   "cell_type": "markdown",
   "id": "european-naples",
   "metadata": {},
   "source": [
    "Break e continue:"
   ]
  },
  {
   "cell_type": "code",
   "execution_count": null,
   "id": "anonymous-dinner",
   "metadata": {},
   "outputs": [],
   "source": [
    "for x in range(10):\n",
    "    if x == 3:\n",
    "        continue # vai para a proxima iteracao\n",
    "    if x == 5:\n",
    "        break    # sai do loop completamente\n",
    "    print(x)"
   ]
  },
  {
   "cell_type": "markdown",
   "id": "graduate-brain",
   "metadata": {},
   "source": [
    "## 12. Veracidade\n",
    "Booleans iguais outras linguagens, exceto que <b>iniciam com letra maiúscula</b>:"
   ]
  },
  {
   "cell_type": "code",
   "execution_count": null,
   "id": "dressed-thursday",
   "metadata": {},
   "outputs": [],
   "source": [
    "one_is_less_than_two = 1 < 2      # True\n",
    "true_equals_false = True == False # False\n",
    "one_is_less_than_two, true_equals_false"
   ]
  },
  {
   "cell_type": "markdown",
   "id": "handy-spoke",
   "metadata": {},
   "source": [
    "Python possui o valor <b>None</b> para indicar um valor não existente:"
   ]
  },
  {
   "cell_type": "code",
   "execution_count": null,
   "id": "disciplinary-advertiser",
   "metadata": {},
   "outputs": [],
   "source": [
    "x = None\n",
    "print(x == None) # True e nao Pythonic\n",
    "print(x is None) # True e Pythonic"
   ]
  },
  {
   "cell_type": "markdown",
   "id": "christian-particular",
   "metadata": {},
   "source": [
    "Python atribue valores para nulo(None):"
   ]
  },
  {
   "cell_type": "code",
   "execution_count": null,
   "id": "improved-plate",
   "metadata": {},
   "outputs": [],
   "source": [
    "s = \"\"\n",
    "if s: # Falso \n",
    "    first_char = s[0]\n",
    "else:\n",
    "    first_char = \"\"\n",
    "\n",
    "# Uma forma mais simples de fazer o mesmo:\n",
    "first_char = s and s[0]\n",
    "safe_x = x or 0\n",
    "first_char, safe_x"
   ]
  },
  {
   "cell_type": "markdown",
   "id": "continental-cologne",
   "metadata": {},
   "source": [
    "Função <b>all()</b>, retorna true quando todos elementos forem verdadeiros:"
   ]
  },
  {
   "cell_type": "code",
   "execution_count": null,
   "id": "equipped-figure",
   "metadata": {},
   "outputs": [],
   "source": [
    "all([True, 1, {3}]) # True\n",
    "all([True, 1, {}])   # False, {} eh falso\n",
    "all([])             # True, sem elementos falsos na lista"
   ]
  },
  {
   "cell_type": "markdown",
   "id": "passive-trance",
   "metadata": {},
   "source": [
    "Função <b>any()</b>, retorna true quando pelo menos um elemento é verdadeiro:"
   ]
  },
  {
   "cell_type": "code",
   "execution_count": null,
   "id": "restricted-aaron",
   "metadata": {},
   "outputs": [],
   "source": [
    "any([True, 1, {}])  # True, true eh true\n",
    "any([])             # False, sem elementos verdadeiros na lista"
   ]
  },
  {
   "cell_type": "markdown",
   "id": "detailed-holiday",
   "metadata": {},
   "source": [
    "## Não Tão Básico\n",
    "## 13. Ordenação\n",
    "Toda lista possui um metódo <b>sort</b> que ordena seu espaço. Se você não quer bagunçar sua lista, pode usar o metódo <b>sorted</b>, que retorna uma lista nova."
   ]
  },
  {
   "cell_type": "code",
   "execution_count": null,
   "id": "further-damage",
   "metadata": {},
   "outputs": [],
   "source": [
    "x = [4, 1, 2, 3]\n",
    "y = sorted(x)\n",
    "x.sort()\n",
    "y, x"
   ]
  },
  {
   "cell_type": "markdown",
   "id": "engaged-viewer",
   "metadata": {},
   "source": [
    "Por padrão, <b>sort</b> e <b>sorted</b> organizam ula lista da menor para a maior baseada em uma comparação ingênua de elementos uns com os outros. Se você quiser que sejam organizados do maior para o menor, você pode especificar o parâmetro <b>reverse=True</b>. E em vez de comparar os elementos com eles mesmos, compare os resultados da função que você especificar com <b>key</b>:\n",
    "\n",
    "Organiza a lista pelo valor absoluto do maior para o menor:"
   ]
  },
  {
   "cell_type": "code",
   "execution_count": null,
   "id": "honey-homeless",
   "metadata": {},
   "outputs": [],
   "source": [
    "x = sorted([-4, 1, -2, 3], key=abs, reverse=True)\n",
    "x"
   ]
  },
  {
   "cell_type": "markdown",
   "id": "potential-antigua",
   "metadata": {},
   "source": [
    "Organiza as palavras e contagens da mais alta para a mais baixa"
   ]
  },
  {
   "cell_type": "code",
   "execution_count": null,
   "id": "lightweight-diagram",
   "metadata": {},
   "outputs": [],
   "source": [
    "wc = sorted(word_counts.items(),\n",
    "           key=lambda wordcount: (wordcount[1], wordcount[0]),\n",
    "           reverse=True)\n",
    "wc"
   ]
  },
  {
   "cell_type": "markdown",
   "id": "parental-movie",
   "metadata": {},
   "source": [
    "## 14. Compreensões de Lista\n",
    "Com frequência, você vai querer transformar uma lista em outra, escolhendo apenas alguns elementos, transformando tais elementos ou ambos. O modo Pythonic de fazer isso são as compreensões de lista:"
   ]
  },
  {
   "cell_type": "code",
   "execution_count": null,
   "id": "northern-serial",
   "metadata": {},
   "outputs": [],
   "source": [
    "even_numbers = [x for x in range(5) if x % 2 == 0 and x != 0]\n",
    "even_numbers"
   ]
  },
  {
   "cell_type": "code",
   "execution_count": null,
   "id": "placed-comfort",
   "metadata": {},
   "outputs": [],
   "source": [
    "squares = [x * x for x in range(5)]\n",
    "squares"
   ]
  },
  {
   "cell_type": "code",
   "execution_count": null,
   "id": "technological-preference",
   "metadata": {},
   "outputs": [],
   "source": [
    "even_squares = [x * x for x in even_numbers]\n",
    "even_squares"
   ]
  },
  {
   "cell_type": "markdown",
   "id": "inclusive-tobacco",
   "metadata": {},
   "source": [
    "Você pode transformar dicionários e conjuntos da mesma forma:"
   ]
  },
  {
   "cell_type": "code",
   "execution_count": null,
   "id": "wireless-timber",
   "metadata": {},
   "outputs": [],
   "source": [
    "square_dict = {x: x * x for x in range(5)}\n",
    "square_dict"
   ]
  },
  {
   "cell_type": "code",
   "execution_count": null,
   "id": "patent-royal",
   "metadata": {},
   "outputs": [],
   "source": [
    "square_set = {x * x for x in [-1, 1, -3, 3]}\n",
    "square_set"
   ]
  },
  {
   "cell_type": "markdown",
   "id": "cubic-adapter",
   "metadata": {},
   "source": [
    "Se você não precisar do valor da lista, é comum usar um sublinhado como variável:"
   ]
  },
  {
   "cell_type": "code",
   "execution_count": null,
   "id": "bearing-alignment",
   "metadata": {},
   "outputs": [],
   "source": [
    "twoes = [2 for _ in even_numbers] # possuirá o mesmo tamanho de even_numbers\n",
    "twoes"
   ]
  },
  {
   "cell_type": "markdown",
   "id": "valid-nursery",
   "metadata": {},
   "source": [
    "Uma compreensão de lista pode incluir múltiplos <b>for</b>:"
   ]
  },
  {
   "cell_type": "code",
   "execution_count": null,
   "id": "meaningful-mapping",
   "metadata": {},
   "outputs": [],
   "source": [
    "pairs =[(x, y)\n",
    "       for x in range(10)\n",
    "       for y in range(10)]\n",
    "pairs"
   ]
  },
  {
   "cell_type": "markdown",
   "id": "adapted-orchestra",
   "metadata": {},
   "source": [
    "E os for que vêm depois podem usar os resultados dos anteriores:"
   ]
  },
  {
   "cell_type": "code",
   "execution_count": null,
   "id": "neither-trailer",
   "metadata": {},
   "outputs": [],
   "source": [
    "increasing_pairs = [(x, y)\n",
    "                   for x in range(10)\n",
    "                   for y in range(x + 1, 10)]\n",
    "increasing_pairs"
   ]
  },
  {
   "cell_type": "markdown",
   "id": "interesting-highlight",
   "metadata": {},
   "source": [
    "## 15. Geradores e Iteradores\n",
    "UM problema com as listas é que elas podem crescer sem parar facilmente. <b>range(1000000)</b> cria uma lista com um milhão de elementos. Se você apenas precisa lidar com eles um de cada vez, isso pode ser uma fonte infinita de ineficiência(ou esgotamento de memória). Se você precisar de poucos valores, calcular todos seria uma perda de tempo. Um gerador é algo sobre o qual você pode iterar(geralmente usando for) mas cujos valores são produzidos apenas quando necessários.\n",
    "\n",
    "Uma frma de criar geradores é com funções e o operador <b>yield</b>:"
   ]
  },
  {
   "cell_type": "code",
   "execution_count": null,
   "id": "junior-faculty",
   "metadata": {},
   "outputs": [],
   "source": [
    "def lazy_range(n):\n",
    "    \"\"\"uma versão preguiçosa de range\"\"\"\n",
    "    i = 0\n",
    "    while i < n:\n",
    "        yield i\n",
    "        i += 1"
   ]
  },
  {
   "cell_type": "markdown",
   "id": "documentary-insulin",
   "metadata": {},
   "source": [
    "O loop a seguir consumirá os valores <b>yield</b> um de cada vez até não sobrar mais nenhum:"
   ]
  },
  {
   "cell_type": "code",
   "execution_count": null,
   "id": "legislative-corrections",
   "metadata": {},
   "outputs": [],
   "source": [
    "for i in lazy_range(10):\n",
    "    print(i)"
   ]
  },
  {
   "cell_type": "markdown",
   "id": "widespread-library",
   "metadata": {},
   "source": [
    "No Python 3, a função range por padrão já é \"preguiçosa\". Isso significa que você pode criar uma sequência infinita, embora você não deva iterar sobre ela sem usar algum tipo de lógica <b>break</b>:"
   ]
  },
  {
   "cell_type": "code",
   "execution_count": null,
   "id": "running-content",
   "metadata": {},
   "outputs": [],
   "source": [
    "def natural_numbers(num):\n",
    "    \"\"\"retorna 1, 2, 3, ..., num\"\"\"\n",
    "    n = 1\n",
    "    while True:\n",
    "        yield n\n",
    "        n += 1\n",
    "        if n == num:\n",
    "            break\n",
    "one_to_ten = list(natural_numbers(11))\n",
    "one_to_ten"
   ]
  },
  {
   "cell_type": "markdown",
   "id": "earned-overall",
   "metadata": {},
   "source": [
    "Uma segunda forma de criar geradores é usar compreensões de <b>for</b> dentro de parênteses:"
   ]
  },
  {
   "cell_type": "code",
   "execution_count": null,
   "id": "confused-muscle",
   "metadata": {},
   "outputs": [],
   "source": [
    "lazy_even_below_20 = [i for i in lazy_range(20) if i % 2 == 0]\n",
    "lazy_even_below_20"
   ]
  },
  {
   "cell_type": "markdown",
   "id": "stupid-polls",
   "metadata": {},
   "source": [
    "Lembre-se de que cada <b>dict</b> possui um método <b>items()</b> que retorna uma lista de seus pares valores-chave. Veremos com mais frequência o método <b>iteritems()</b>, que preguiçosamente <b>yields</b>(chama) os pares de valor-chave um de cada vez conforme iteramos sobre ele.\n",
    "## 16. Aleatoriedade\n",
    "Conforme aprendemos data scrience, precisaremos gerar números aleatórios com uma certa frequência, o que pode ser feito com o módulo random:\n",
    "\n",
    "<b>random.random()</b> produz números uniformemente entre 0 e 1. É a função aleatória que usaremos com mais frequência."
   ]
  },
  {
   "cell_type": "code",
   "execution_count": null,
   "id": "supposed-hearts",
   "metadata": {},
   "outputs": [],
   "source": [
    "import random\n",
    "\n",
    "four_uniform_randoms = [random.random() for _ in range(4)]\n",
    "four_uniform_randoms"
   ]
  },
  {
   "cell_type": "markdown",
   "id": "scientific-invalid",
   "metadata": {},
   "source": [
    "O módulo random de fato produz números pseudoaleatórios(ou seja, determinísticos) baseado em u estado interno que você pode configurar com <b>random.seed</b> se quiser obter resultados reproduzíveis:"
   ]
  },
  {
   "cell_type": "code",
   "execution_count": null,
   "id": "starting-rolling",
   "metadata": {},
   "outputs": [],
   "source": [
    "random.seed(4)\n",
    "print(random.random())\n",
    "\n",
    "random.seed(4)\n",
    "print(random.random())"
   ]
  },
  {
   "cell_type": "markdown",
   "id": "satellite-substitute",
   "metadata": {},
   "source": [
    "Às vezes usaremos <b>random.randrange</b>, que leva um ou dois argumentos e retorna um elemento escolhido aleatoriamente do <b>range()</b> correspondente:"
   ]
  },
  {
   "cell_type": "code",
   "execution_count": null,
   "id": "advised-emerald",
   "metadata": {},
   "outputs": [],
   "source": [
    "random_zero_to_nine = random.randrange(10)\n",
    "random_three_to_five = random.randrange(3, 6)\n",
    "random_zero_to_nine, random_three_to_five"
   ]
  },
  {
   "cell_type": "markdown",
   "id": "lightweight-skiing",
   "metadata": {},
   "source": [
    "Existem mais alguns métodos que achamos convenientes em certas ocasiões. <b>random.shuffle</b> reordena os elementos de uma lista aleatoriamente:"
   ]
  },
  {
   "cell_type": "code",
   "execution_count": null,
   "id": "independent-adapter",
   "metadata": {},
   "outputs": [],
   "source": [
    "up_to_ten = list(natural_numbers(10))\n",
    "random.shuffle(up_to_ten)\n",
    "up_to_ten"
   ]
  },
  {
   "cell_type": "markdown",
   "id": "rolled-commerce",
   "metadata": {},
   "source": [
    "Se você precisar escolher um elemento randomicamente de uma lista, você pode usar <b>random.choice</b>:"
   ]
  },
  {
   "cell_type": "code",
   "execution_count": null,
   "id": "indian-tokyo",
   "metadata": {},
   "outputs": [],
   "source": [
    "my_best_friend = random.choice([\"Matheus\", \"Luna\", \"Tobias\", \"Ricardo\", \"Rafaelli\", \"Rodrigo\"])\n",
    "my_best_friend"
   ]
  },
  {
   "cell_type": "markdown",
   "id": "random-trustee",
   "metadata": {},
   "source": [
    "E se você precisar escolher aleatoriamente uma amostra dos elementos sem substituição(por exemplo, sem duplicatas), você pode usar <b>random.sample</b>:"
   ]
  },
  {
   "cell_type": "code",
   "execution_count": null,
   "id": "empirical-decline",
   "metadata": {},
   "outputs": [],
   "source": [
    "lottery_numbers = [i for i in range(60)]\n",
    "winning_numbers = random.sample(lottery_numbers, 6)\n",
    "winning_numbers"
   ]
  },
  {
   "cell_type": "markdown",
   "id": "local-powell",
   "metadata": {},
   "source": [
    "Para escolher uma amostra de elementos com substituição(por exemplo, permitindo duplicatas), você pode fazer múltiplas chamadas para <b>random.choice</b>:"
   ]
  },
  {
   "cell_type": "code",
   "execution_count": null,
   "id": "unauthorized-explorer",
   "metadata": {},
   "outputs": [],
   "source": [
    "four_with_replacement = [random.choice(range(10))\n",
    "                        for _ in range(4)]\n",
    "four_with_replacement"
   ]
  },
  {
   "cell_type": "markdown",
   "id": "dirty-december",
   "metadata": {},
   "source": [
    "## 17. Expressões Regulares (Regex)\n",
    "As expressões regulares fornecem uma maneira de procurar por texto. São incrivelmente úteis mas um pouco complicadas, tanto que até existem livros sobre elas. Estes são alguns exemplos de como usá-las em Python:"
   ]
  },
  {
   "cell_type": "code",
   "execution_count": null,
   "id": "affected-diary",
   "metadata": {},
   "outputs": [],
   "source": [
    "import re\n",
    "\n",
    "print(all([                                      # Todos sao verdadeiros porque:\n",
    "          not re.match(\"a\", \"cat\"),              # 'cat' nao comeca com 'a'\n",
    "          re.search(\"a\", \"cat\"),                 # 'cat' possui um 'a'\n",
    "          not re.search(\"c\", \"dog\"),             # 'dog' nao possui um 'c'\n",
    "          3 == len(re.split(\"[ab]\", \"carbs\")),   # divide em a ou b para ['c', 'r', 's']\n",
    "          \"R-D-\" == re.sub(\"[0-9]\", \"-\", \"R2D2\") # substitui digitos por traços\n",
    "          ]))"
   ]
  },
  {
   "cell_type": "markdown",
   "id": "regulated-museum",
   "metadata": {},
   "source": [
    "## 18. Programação Orientada a Objeto\n",
    "Como muitas linguagens, o Python permite que você defina classes que encapsulam dados e as funções que as operam. \n",
    "\n",
    "Imagine que não tivéssemos o <b>set</b> embutido em Python. Portanto, talvez quiséssemos criar nossa própria classe <b>Set</b>.\n",
    "\n",
    "Qual comportamento nossa classe deveria ter? Dado um exemplo de <b>Set</b>, deveremos ser capazes de <b>add</b> (adicionar) itens nele, <b>remove</b> (remover) itens dele e verificar se ele <b>contains</b> (contém) um determinado valor. Criaremos todos eles como funções de membro, o que significa que os acessaremos com um ponto depois de um objeto <b>Set</b>:"
   ]
  },
  {
   "cell_type": "code",
   "execution_count": null,
   "id": "furnished-insertion",
   "metadata": {},
   "outputs": [],
   "source": [
    "# por convenção, damos nomes PascalCase às classes\n",
    "class Set:\n",
    "    \n",
    "    # estas são as funções de membro\n",
    "    # cada uma pega um parâmetro \"self\" (outra convenção)\n",
    "    # que se refere ao objeto set sendo usa em questão\n",
    "    \n",
    "    def __init__(self, values=None):\n",
    "        \"\"\"este é o construtor.\n",
    "        Ele é chamado quando você cria um novo Set.\n",
    "        Você deveria usá-lo como\n",
    "        s1 = Set()             # conjunto vazio\n",
    "        s2 = Set([1, 2, 2, 3]) # inicializa com valores\"\"\"\n",
    "        \n",
    "        self.dict = {} # cada instância de set possui sua própria propriedade dict\n",
    "                       # que é o que usaremos para rastrear as \n",
    "        if values is not None:\n",
    "            for value in values:\n",
    "                self.add(value)\n",
    "                \n",
    "    def __repr__(self):\n",
    "        \"\"\"esta é a representação da string de um objeto Set\n",
    "        se você digitá-la no prompt do Python ou passá-la para str()\"\"\"\n",
    "        return \"Set: \" + str(self.dict.keys())\n",
    "    \n",
    "    # representaremos a associação como uma chave em self.dict com valor True\n",
    "    def add(self, value):\n",
    "        self.dict[value] = True\n",
    "        \n",
    "    # valor está no Set se ele for uma chave no dicionário\n",
    "    def contains(self, value):\n",
    "        return value in self.dict\n",
    "    \n",
    "    def remove(self, value):\n",
    "        del self.dict[value]"
   ]
  },
  {
   "cell_type": "markdown",
   "id": "varied-occasion",
   "metadata": {},
   "source": [
    "Que poderíamos usar desta forma:"
   ]
  },
  {
   "cell_type": "code",
   "execution_count": null,
   "id": "disturbed-wilson",
   "metadata": {},
   "outputs": [],
   "source": [
    "s = Set([1, 2, 3])\n",
    "s.add(4)\n",
    "print(s.contains(4)) # True\n",
    "s.remove(3)\n",
    "print(s.contains(3)) # False\n",
    "\n",
    "s"
   ]
  },
  {
   "cell_type": "markdown",
   "id": "increased-hampton",
   "metadata": {},
   "source": [
    "## 19. Ferramentas Funcionais\n",
    "Ao passar as funções, algumas vezes queremos aplicá-las parcialmente para criar funções novas. Em um simples exemplo, imagine que temos uma função com duas variáveis:"
   ]
  },
  {
   "cell_type": "code",
   "execution_count": null,
   "id": "about-evolution",
   "metadata": {},
   "outputs": [],
   "source": [
    "def exp(base, power):\n",
    "    return base ** power"
   ]
  },
  {
   "cell_type": "markdown",
   "id": "hidden-nelson",
   "metadata": {},
   "source": [
    "E queremos usá-la para criar uma função de uma variável <b>two_to_the</b> cuja entrada é um <b>power</b> e cuja saída é o resultado de <b>exp(2, power)</b>.\n",
    "\n",
    "Podemos, é claro, fazer isso com def, mas pode ser um pouco complicado:"
   ]
  },
  {
   "cell_type": "code",
   "execution_count": null,
   "id": "brilliant-providence",
   "metadata": {},
   "outputs": [],
   "source": [
    "def two_to_the(power):\n",
    "    return exp(2, power)"
   ]
  },
  {
   "cell_type": "markdown",
   "id": "smoking-chance",
   "metadata": {},
   "source": [
    "Uma outra abordagem é usar <b>functools.partial</b>:"
   ]
  },
  {
   "cell_type": "code",
   "execution_count": null,
   "id": "executive-shopping",
   "metadata": {},
   "outputs": [],
   "source": [
    "from functools import partial\n",
    "two_to_the = partial(exp, 2) # agora é uma função de uma variável\n",
    "print(two_to_the(3))"
   ]
  },
  {
   "cell_type": "markdown",
   "id": "southwest-siemens",
   "metadata": {},
   "source": [
    "Você pode também usar <b>partial</b> para preencher os argumentos que virão depois se você especificar seus nomes:"
   ]
  },
  {
   "cell_type": "code",
   "execution_count": null,
   "id": "laden-variety",
   "metadata": {},
   "outputs": [],
   "source": [
    "square_of = partial(exp, power=2)\n",
    "print(square_of(3))"
   ]
  },
  {
   "cell_type": "markdown",
   "id": "coastal-auditor",
   "metadata": {},
   "source": [
    "Começa a ficar bagunçado quando você adiciona argumentos no meio da função,portanto tente evitar isso.\n",
    "\n",
    "Ocasionalmente usaremos <b>map, reduce e filter</b>, que fornecem alternativas funcionais para as compreensões da lista:"
   ]
  },
  {
   "cell_type": "code",
   "execution_count": null,
   "id": "independent-execution",
   "metadata": {},
   "outputs": [],
   "source": [
    "def double(x):\n",
    "    return 2 * x\n",
    "\n",
    "xs = [1, 2, 3, 4]\n",
    "\n",
    "twice_xs = [double(x) for x in xs]      # [2, 4, 6, 8]\n",
    "print(twice_xs)\n",
    "\n",
    "twice_xs = list(map(double, xs))        # [2, 4, 6, 8]\n",
    "print(twice_xs)\n",
    "\n",
    "list_doubler = partial(map, double)     # função que duplica a lista\n",
    "twice_xs = list(list_doubler(xs))       # [2, 4, 6, 8]\n",
    "print(twice_xs)"
   ]
  },
  {
   "cell_type": "markdown",
   "id": "accepting-sandwich",
   "metadata": {},
   "source": [
    "Você pode usar <b>map</b> com funções de múltiplos argumentos se fornecer múltiplas listas:"
   ]
  },
  {
   "cell_type": "code",
   "execution_count": null,
   "id": "continuous-inspector",
   "metadata": {},
   "outputs": [],
   "source": [
    "def multiply(x, y): return x * y\n",
    "\n",
    "products = list(map(multiply, [1, 2], [4, 5])) # [1 * 4, 2 * 5] = [4, 10]\n",
    "products"
   ]
  },
  {
   "cell_type": "markdown",
   "id": "bulgarian-spectacular",
   "metadata": {},
   "source": [
    "Igualmente, <b>filter</b> faz o trabalho de uma compreensão de lista <b>if</b>:"
   ]
  },
  {
   "cell_type": "code",
   "execution_count": null,
   "id": "minus-maine",
   "metadata": {},
   "outputs": [],
   "source": [
    "def is_even(x):\n",
    "    \"\"\"True se x for par, False se x for ímpar\"\"\"\n",
    "    return x % 2 == 0\n",
    "\n",
    "x_evens = [x for x in xs if is_even(x)] # [2, 4]\n",
    "print(x_evens)\n",
    "\n",
    "x_evens = list(filter(is_even, xs))     # [2, 4]\n",
    "print(x_evens)\n",
    "\n",
    "list_evener = partial(filter, is_even)  # função que filtra a lista\n",
    "x_evens = list(list_evener(xs))         # [2, 4]\n",
    "print(x_evens)"
   ]
  },
  {
   "cell_type": "markdown",
   "id": "military-garden",
   "metadata": {},
   "source": [
    "E <b>reduce</b> combina os dois primeiros elementos de uma lista, então esse resultado com o terceiro e esse resultado com o quarto; e assim por diante, produzindo um único resultado:"
   ]
  },
  {
   "cell_type": "code",
   "execution_count": null,
   "id": "statutory-robinson",
   "metadata": {},
   "outputs": [],
   "source": [
    "from functools import reduce\n",
    "\n",
    "x_product = reduce(multiply, xs)         # 1 * 2 * 3 * 4 = 24\n",
    "print(x_product)\n",
    "\n",
    "list_product = partial(reduce, multiply) # função que reduz uma lista\n",
    "x_product = list_product(xs)             # 1 * 2 * 3 * 4 = 24\n",
    "print(x_product)"
   ]
  },
  {
   "cell_type": "markdown",
   "id": "technological-bible",
   "metadata": {},
   "source": [
    "## 20. Enumeração (enumerate)\n",
    "Com alguma frequência, você vai querer iterar por uma lista e usar seus elementos e seus índices:"
   ]
  },
  {
   "cell_type": "code",
   "execution_count": null,
   "id": "fixed-theology",
   "metadata": {},
   "outputs": [],
   "source": [
    "documents = ['Ata1', 'Ata2', 'Ata3']\n",
    "\n",
    "# Nào é Pythonic\n",
    "for i in range(len(documents)):\n",
    "    document = documents[i]\n",
    "    #do_something(1, document)\n",
    "    print(document)\n",
    "    \n",
    "# Também não é Pythonic\n",
    "i = 0\n",
    "for document in documents:\n",
    "    #do_something(1, document)\n",
    "    print(f'Document {i+1} = {document}')\n",
    "    i += 1"
   ]
  },
  {
   "cell_type": "markdown",
   "id": "senior-entry",
   "metadata": {},
   "source": [
    "A solução Pythonic é <b>enumerate</b>(enumerar), que produz tuplas (index, element):"
   ]
  },
  {
   "cell_type": "code",
   "execution_count": null,
   "id": "impaired-guatemala",
   "metadata": {},
   "outputs": [],
   "source": [
    "for i, document in enumerate(documents):\n",
    "    #do_something(1, document)\n",
    "    print(f'Document {i+1} = {document}')\n",
    "\n",
    "# Se quisermos apenas os índices:\n",
    "\n",
    "for i in range(len(documents)):  # Não é Pythonic\n",
    "    #do_something(1, document)\n",
    "    print(f'Document {i}')\n",
    "    \n",
    "for i, _ in enumerate(documents): # Pythonic\n",
    "     #do_something(1, document)\n",
    "    print(f'Document {i}')"
   ]
  },
  {
   "cell_type": "markdown",
   "id": "structured-incentive",
   "metadata": {},
   "source": [
    "## 21. Descompactação de Zip e Argumentos\n",
    "Com uma certa frequência, precisaremos <b>zip</b> (compactar) duas ou mais listas juntas. <b>zip</b> transforma listas múltiplas em uma única lista de tuplas de elementos correspondentes:"
   ]
  },
  {
   "cell_type": "code",
   "execution_count": null,
   "id": "atmospheric-wireless",
   "metadata": {},
   "outputs": [],
   "source": [
    "list1 = ['a', 'b', 'c']\n",
    "list2 = [1, 2, 3]\n",
    "list(zip(list1, list2))"
   ]
  },
  {
   "cell_type": "markdown",
   "id": "rolled-master",
   "metadata": {},
   "source": [
    "Se as listas são de tamanhos diferentes, <b>zip</b> para assim que a primeira lista acaba.\n",
    "\n",
    "Você também pode descompactar uma lista usando um truque curioso:"
   ]
  },
  {
   "cell_type": "code",
   "execution_count": null,
   "id": "steady-childhood",
   "metadata": {},
   "outputs": [],
   "source": [
    "pairs = [('a', 1), ('b', 2), ('c', 3)]\n",
    "letters, numbers = zip(*pairs)\n",
    "letters, numbers"
   ]
  },
  {
   "cell_type": "markdown",
   "id": "indie-dimension",
   "metadata": {},
   "source": [
    "O asterisco desempenha a <b>descompactação de argumento</b>, que usa os elementos de pairs como argumentos individuais para <b>zip</b>. Dá no mesmo se você utilizar: "
   ]
  },
  {
   "cell_type": "code",
   "execution_count": null,
   "id": "atomic-headquarters",
   "metadata": {},
   "outputs": [],
   "source": [
    "list(zip(('a', 1), ('b', 2), ('c', 3)))"
   ]
  },
  {
   "cell_type": "markdown",
   "id": "certified-merit",
   "metadata": {},
   "source": [
    "Você pode usar a descompactação de argumento com qualquer função, é raro acharmos isso útil, mas quando fazemos é um truque engenhoso:"
   ]
  },
  {
   "cell_type": "code",
   "execution_count": null,
   "id": "exempt-invite",
   "metadata": {},
   "outputs": [],
   "source": [
    "def add(a, b): return a + b"
   ]
  },
  {
   "cell_type": "code",
   "execution_count": null,
   "id": "sound-permit",
   "metadata": {},
   "outputs": [],
   "source": [
    "add(1, 2)"
   ]
  },
  {
   "cell_type": "code",
   "execution_count": null,
   "id": "silent-ladder",
   "metadata": {},
   "outputs": [],
   "source": [
    "try:\n",
    "    add([1, 2])\n",
    "except TypeError:\n",
    "    print(\"add() missing 1 required positional argument: 'b'\")"
   ]
  },
  {
   "cell_type": "code",
   "execution_count": null,
   "id": "recognized-mortality",
   "metadata": {},
   "outputs": [],
   "source": [
    "add(*[1, 2])"
   ]
  },
  {
   "cell_type": "markdown",
   "id": "muslim-climb",
   "metadata": {},
   "source": [
    "## 22. args e kwargs\n",
    "\n",
    "Digamos que queremos criar uma função de ordem alta que tem como entrada uma função f e retorna uma função nova que retorna duas vezes o valor de f para qualquer entrada:"
   ]
  },
  {
   "cell_type": "code",
   "execution_count": null,
   "id": "attempted-piece",
   "metadata": {},
   "outputs": [],
   "source": [
    "def doubler(f):\n",
    "    def g(x):\n",
    "        return 2 * f(x)\n",
    "    return g"
   ]
  },
  {
   "cell_type": "markdown",
   "id": "directed-burns",
   "metadata": {},
   "source": [
    "Isso funciona em alguns casos:"
   ]
  },
  {
   "cell_type": "code",
   "execution_count": null,
   "id": "iraqi-vanilla",
   "metadata": {},
   "outputs": [],
   "source": [
    "def f1(x):\n",
    "    return x + 1\n",
    "\n",
    "g = doubler(f1)\n",
    "print(g(3))    # 8 (== (3 + 1) * 2)\n",
    "print(g(-1))   # 0 (== (-1+ 1) * 2)"
   ]
  },
  {
   "cell_type": "markdown",
   "id": "equipped-assistant",
   "metadata": {},
   "source": [
    "No entanto falha com funções que possuem mais de um único argumento:"
   ]
  },
  {
   "cell_type": "code",
   "execution_count": null,
   "id": "secure-quest",
   "metadata": {},
   "outputs": [],
   "source": [
    "def f2(x, y):\n",
    "    return x + y\n",
    "\n",
    "g = doubler(f2)\n",
    "try:\n",
    "    print(g(1, 2))\n",
    "except TypeError:\n",
    "    print(\"Falhou!\")"
   ]
  },
  {
   "cell_type": "markdown",
   "id": "emotional-allah",
   "metadata": {},
   "source": [
    "O que precisamos é alguma maneira de especificar uma função que leva argumentos arbitrários. Podemos fazer isso com a descompactação de argumento e um pouco de mágica:"
   ]
  },
  {
   "cell_type": "code",
   "execution_count": null,
   "id": "judicial-balloon",
   "metadata": {},
   "outputs": [],
   "source": [
    "def magic(*args, **kwargs):\n",
    "    print(f'unnamed args: {args}')\n",
    "    print(f'keyword args: {kwargs}')\n",
    "    \n",
    "magic(1, 2, key=\"word\", key2=\"word2\")"
   ]
  },
  {
   "cell_type": "markdown",
   "id": "considered-capability",
   "metadata": {},
   "source": [
    "Ou seja, quando definimos uma função como essa, <b>args</b> é uma tupla dos seus argumentos sem nome e <b>kwargs</b> é um <b>dict</b> dos seus argumentos com nome. Funciona da forma contrária também, se você quiser uma <b>list (ou tuple)</b> e <b>dict</b> para fornecer argumentos para uma função:"
   ]
  },
  {
   "cell_type": "code",
   "execution_count": null,
   "id": "assigned-saying",
   "metadata": {},
   "outputs": [],
   "source": [
    "def other_way_magic(x, y, z):\n",
    "    return x + y + z\n",
    "\n",
    "x_y_list = [1, 2]\n",
    "z_dict = {\"z\": 3}\n",
    "\n",
    "other_way_magic(*x_y_list, **z_dict)"
   ]
  },
  {
   "cell_type": "markdown",
   "id": "portable-second",
   "metadata": {},
   "source": [
    "Você poderia fazer todos os tipos de truques com isso:"
   ]
  },
  {
   "cell_type": "code",
   "execution_count": null,
   "id": "frank-conference",
   "metadata": {},
   "outputs": [],
   "source": [
    "def doubler_correct(f):\n",
    "    \"\"\"funciona não importa que tipo de entradas f espera\"\"\"\n",
    "    def g(*args, **kwargs):\n",
    "        \"\"\"quaisquer argumentos com os quais g é fornecido, passa-os para f\"\"\"\n",
    "        return 2 * f(*args, **kwargs)\n",
    "    return g\n",
    "\n",
    "g = doubler_correct(f2)\n",
    "g(1, 2)"
   ]
  }
 ],
 "metadata": {
  "kernelspec": {
   "display_name": "Python 3",
   "language": "python",
   "name": "python3"
  },
  "language_info": {
   "codemirror_mode": {
    "name": "ipython",
    "version": 3
   },
   "file_extension": ".py",
   "mimetype": "text/x-python",
   "name": "python",
   "nbconvert_exporter": "python",
   "pygments_lexer": "ipython3",
   "version": "3.8.6"
  }
 },
 "nbformat": 4,
 "nbformat_minor": 5
}
